{
  "nbformat": 4,
  "nbformat_minor": 0,
  "metadata": {
    "colab": {
      "provenance": []
    },
    "kernelspec": {
      "name": "python3",
      "display_name": "Python 3"
    },
    "language_info": {
      "name": "python"
    }
  },
  "cells": [
    {
      "cell_type": "markdown",
      "source": [
        "# 0.) Import the Credit Card Fraud Data From CCLE"
      ],
      "metadata": {
        "id": "7ywSRtNI4s5h"
      }
    },
    {
      "cell_type": "code",
      "execution_count": 1,
      "metadata": {
        "id": "nsG1QV154GYZ"
      },
      "outputs": [],
      "source": [
        "import pandas as pd\n",
        "from google.colab import drive\n",
        "import matplotlib.pyplot as plt\n",
        "import numpy as np"
      ]
    },
    {
      "cell_type": "code",
      "source": [
        "drive.mount('/content/gdrive/', force_remount = True)"
      ],
      "metadata": {
        "colab": {
          "base_uri": "https://localhost:8080/"
        },
        "id": "Iku0T8Ou4Lcu",
        "outputId": "54fbab20-34ed-42f5-8ef9-1cb2bc138bd3"
      },
      "execution_count": 2,
      "outputs": [
        {
          "output_type": "stream",
          "name": "stdout",
          "text": [
            "Mounted at /content/gdrive/\n"
          ]
        }
      ]
    },
    {
      "cell_type": "code",
      "source": [
        "df = pd.read_csv(\"/content/gdrive/MyDrive/441B/fraudTest.csv\")"
      ],
      "metadata": {
        "id": "KJQfo8mz43Kz"
      },
      "execution_count": 3,
      "outputs": []
    },
    {
      "cell_type": "code",
      "source": [
        "df.head()"
      ],
      "metadata": {
        "colab": {
          "base_uri": "https://localhost:8080/",
          "height": 525
        },
        "id": "mKWSRv-q98wE",
        "outputId": "246199a0-f12e-4153-81bc-221224362f1b"
      },
      "execution_count": 4,
      "outputs": [
        {
          "output_type": "execute_result",
          "data": {
            "text/plain": [
              "   Unnamed: 0 trans_date_trans_time            cc_num  \\\n",
              "0           0   2020-06-21 12:14:25  2291163933867244   \n",
              "1           1   2020-06-21 12:14:33  3573030041201292   \n",
              "2           2   2020-06-21 12:14:53  3598215285024754   \n",
              "3           3   2020-06-21 12:15:15  3591919803438423   \n",
              "4           4   2020-06-21 12:15:17  3526826139003047   \n",
              "\n",
              "                               merchant        category    amt   first  \\\n",
              "0                 fraud_Kirlin and Sons   personal_care   2.86    Jeff   \n",
              "1                  fraud_Sporer-Keebler   personal_care  29.84  Joanne   \n",
              "2  fraud_Swaniawski, Nitzsche and Welch  health_fitness  41.28  Ashley   \n",
              "3                     fraud_Haley Group        misc_pos  60.05   Brian   \n",
              "4                 fraud_Johnston-Casper          travel   3.19  Nathan   \n",
              "\n",
              "       last gender                       street  ...      lat      long  \\\n",
              "0   Elliott      M            351 Darlene Green  ...  33.9659  -80.9355   \n",
              "1  Williams      F             3638 Marsh Union  ...  40.3207 -110.4360   \n",
              "2     Lopez      F         9333 Valentine Point  ...  40.6729  -73.5365   \n",
              "3  Williams      M  32941 Krystal Mill Apt. 552  ...  28.5697  -80.8191   \n",
              "4    Massey      M     5783 Evan Roads Apt. 465  ...  44.2529  -85.0170   \n",
              "\n",
              "   city_pop                     job         dob  \\\n",
              "0    333497     Mechanical engineer  1968-03-19   \n",
              "1       302  Sales professional, IT  1990-01-17   \n",
              "2     34496       Librarian, public  1970-10-21   \n",
              "3     54767            Set designer  1987-07-25   \n",
              "4      1126      Furniture designer  1955-07-06   \n",
              "\n",
              "                          trans_num   unix_time  merch_lat  merch_long  \\\n",
              "0  2da90c7d74bd46a0caf3777415b3ebd3  1371816865  33.986391  -81.200714   \n",
              "1  324cc204407e99f51b0d6ca0055005e7  1371816873  39.450498 -109.960431   \n",
              "2  c81755dbbbea9d5c77f094348a7579be  1371816893  40.495810  -74.196111   \n",
              "3  2159175b9efe66dc301f149d3d5abf8c  1371816915  28.812398  -80.883061   \n",
              "4  57ff021bd3f328f8738bb535c302a31b  1371816917  44.959148  -85.884734   \n",
              "\n",
              "   is_fraud  \n",
              "0         0  \n",
              "1         0  \n",
              "2         0  \n",
              "3         0  \n",
              "4         0  \n",
              "\n",
              "[5 rows x 23 columns]"
            ],
            "text/html": [
              "\n",
              "  <div id=\"df-5c0966f4-83c0-43c2-bfdc-80985a5c6c1e\">\n",
              "    <div class=\"colab-df-container\">\n",
              "      <div>\n",
              "<style scoped>\n",
              "    .dataframe tbody tr th:only-of-type {\n",
              "        vertical-align: middle;\n",
              "    }\n",
              "\n",
              "    .dataframe tbody tr th {\n",
              "        vertical-align: top;\n",
              "    }\n",
              "\n",
              "    .dataframe thead th {\n",
              "        text-align: right;\n",
              "    }\n",
              "</style>\n",
              "<table border=\"1\" class=\"dataframe\">\n",
              "  <thead>\n",
              "    <tr style=\"text-align: right;\">\n",
              "      <th></th>\n",
              "      <th>Unnamed: 0</th>\n",
              "      <th>trans_date_trans_time</th>\n",
              "      <th>cc_num</th>\n",
              "      <th>merchant</th>\n",
              "      <th>category</th>\n",
              "      <th>amt</th>\n",
              "      <th>first</th>\n",
              "      <th>last</th>\n",
              "      <th>gender</th>\n",
              "      <th>street</th>\n",
              "      <th>...</th>\n",
              "      <th>lat</th>\n",
              "      <th>long</th>\n",
              "      <th>city_pop</th>\n",
              "      <th>job</th>\n",
              "      <th>dob</th>\n",
              "      <th>trans_num</th>\n",
              "      <th>unix_time</th>\n",
              "      <th>merch_lat</th>\n",
              "      <th>merch_long</th>\n",
              "      <th>is_fraud</th>\n",
              "    </tr>\n",
              "  </thead>\n",
              "  <tbody>\n",
              "    <tr>\n",
              "      <th>0</th>\n",
              "      <td>0</td>\n",
              "      <td>2020-06-21 12:14:25</td>\n",
              "      <td>2291163933867244</td>\n",
              "      <td>fraud_Kirlin and Sons</td>\n",
              "      <td>personal_care</td>\n",
              "      <td>2.86</td>\n",
              "      <td>Jeff</td>\n",
              "      <td>Elliott</td>\n",
              "      <td>M</td>\n",
              "      <td>351 Darlene Green</td>\n",
              "      <td>...</td>\n",
              "      <td>33.9659</td>\n",
              "      <td>-80.9355</td>\n",
              "      <td>333497</td>\n",
              "      <td>Mechanical engineer</td>\n",
              "      <td>1968-03-19</td>\n",
              "      <td>2da90c7d74bd46a0caf3777415b3ebd3</td>\n",
              "      <td>1371816865</td>\n",
              "      <td>33.986391</td>\n",
              "      <td>-81.200714</td>\n",
              "      <td>0</td>\n",
              "    </tr>\n",
              "    <tr>\n",
              "      <th>1</th>\n",
              "      <td>1</td>\n",
              "      <td>2020-06-21 12:14:33</td>\n",
              "      <td>3573030041201292</td>\n",
              "      <td>fraud_Sporer-Keebler</td>\n",
              "      <td>personal_care</td>\n",
              "      <td>29.84</td>\n",
              "      <td>Joanne</td>\n",
              "      <td>Williams</td>\n",
              "      <td>F</td>\n",
              "      <td>3638 Marsh Union</td>\n",
              "      <td>...</td>\n",
              "      <td>40.3207</td>\n",
              "      <td>-110.4360</td>\n",
              "      <td>302</td>\n",
              "      <td>Sales professional, IT</td>\n",
              "      <td>1990-01-17</td>\n",
              "      <td>324cc204407e99f51b0d6ca0055005e7</td>\n",
              "      <td>1371816873</td>\n",
              "      <td>39.450498</td>\n",
              "      <td>-109.960431</td>\n",
              "      <td>0</td>\n",
              "    </tr>\n",
              "    <tr>\n",
              "      <th>2</th>\n",
              "      <td>2</td>\n",
              "      <td>2020-06-21 12:14:53</td>\n",
              "      <td>3598215285024754</td>\n",
              "      <td>fraud_Swaniawski, Nitzsche and Welch</td>\n",
              "      <td>health_fitness</td>\n",
              "      <td>41.28</td>\n",
              "      <td>Ashley</td>\n",
              "      <td>Lopez</td>\n",
              "      <td>F</td>\n",
              "      <td>9333 Valentine Point</td>\n",
              "      <td>...</td>\n",
              "      <td>40.6729</td>\n",
              "      <td>-73.5365</td>\n",
              "      <td>34496</td>\n",
              "      <td>Librarian, public</td>\n",
              "      <td>1970-10-21</td>\n",
              "      <td>c81755dbbbea9d5c77f094348a7579be</td>\n",
              "      <td>1371816893</td>\n",
              "      <td>40.495810</td>\n",
              "      <td>-74.196111</td>\n",
              "      <td>0</td>\n",
              "    </tr>\n",
              "    <tr>\n",
              "      <th>3</th>\n",
              "      <td>3</td>\n",
              "      <td>2020-06-21 12:15:15</td>\n",
              "      <td>3591919803438423</td>\n",
              "      <td>fraud_Haley Group</td>\n",
              "      <td>misc_pos</td>\n",
              "      <td>60.05</td>\n",
              "      <td>Brian</td>\n",
              "      <td>Williams</td>\n",
              "      <td>M</td>\n",
              "      <td>32941 Krystal Mill Apt. 552</td>\n",
              "      <td>...</td>\n",
              "      <td>28.5697</td>\n",
              "      <td>-80.8191</td>\n",
              "      <td>54767</td>\n",
              "      <td>Set designer</td>\n",
              "      <td>1987-07-25</td>\n",
              "      <td>2159175b9efe66dc301f149d3d5abf8c</td>\n",
              "      <td>1371816915</td>\n",
              "      <td>28.812398</td>\n",
              "      <td>-80.883061</td>\n",
              "      <td>0</td>\n",
              "    </tr>\n",
              "    <tr>\n",
              "      <th>4</th>\n",
              "      <td>4</td>\n",
              "      <td>2020-06-21 12:15:17</td>\n",
              "      <td>3526826139003047</td>\n",
              "      <td>fraud_Johnston-Casper</td>\n",
              "      <td>travel</td>\n",
              "      <td>3.19</td>\n",
              "      <td>Nathan</td>\n",
              "      <td>Massey</td>\n",
              "      <td>M</td>\n",
              "      <td>5783 Evan Roads Apt. 465</td>\n",
              "      <td>...</td>\n",
              "      <td>44.2529</td>\n",
              "      <td>-85.0170</td>\n",
              "      <td>1126</td>\n",
              "      <td>Furniture designer</td>\n",
              "      <td>1955-07-06</td>\n",
              "      <td>57ff021bd3f328f8738bb535c302a31b</td>\n",
              "      <td>1371816917</td>\n",
              "      <td>44.959148</td>\n",
              "      <td>-85.884734</td>\n",
              "      <td>0</td>\n",
              "    </tr>\n",
              "  </tbody>\n",
              "</table>\n",
              "<p>5 rows × 23 columns</p>\n",
              "</div>\n",
              "      <button class=\"colab-df-convert\" onclick=\"convertToInteractive('df-5c0966f4-83c0-43c2-bfdc-80985a5c6c1e')\"\n",
              "              title=\"Convert this dataframe to an interactive table.\"\n",
              "              style=\"display:none;\">\n",
              "        \n",
              "  <svg xmlns=\"http://www.w3.org/2000/svg\" height=\"24px\"viewBox=\"0 0 24 24\"\n",
              "       width=\"24px\">\n",
              "    <path d=\"M0 0h24v24H0V0z\" fill=\"none\"/>\n",
              "    <path d=\"M18.56 5.44l.94 2.06.94-2.06 2.06-.94-2.06-.94-.94-2.06-.94 2.06-2.06.94zm-11 1L8.5 8.5l.94-2.06 2.06-.94-2.06-.94L8.5 2.5l-.94 2.06-2.06.94zm10 10l.94 2.06.94-2.06 2.06-.94-2.06-.94-.94-2.06-.94 2.06-2.06.94z\"/><path d=\"M17.41 7.96l-1.37-1.37c-.4-.4-.92-.59-1.43-.59-.52 0-1.04.2-1.43.59L10.3 9.45l-7.72 7.72c-.78.78-.78 2.05 0 2.83L4 21.41c.39.39.9.59 1.41.59.51 0 1.02-.2 1.41-.59l7.78-7.78 2.81-2.81c.8-.78.8-2.07 0-2.86zM5.41 20L4 18.59l7.72-7.72 1.47 1.35L5.41 20z\"/>\n",
              "  </svg>\n",
              "      </button>\n",
              "      \n",
              "  <style>\n",
              "    .colab-df-container {\n",
              "      display:flex;\n",
              "      flex-wrap:wrap;\n",
              "      gap: 12px;\n",
              "    }\n",
              "\n",
              "    .colab-df-convert {\n",
              "      background-color: #E8F0FE;\n",
              "      border: none;\n",
              "      border-radius: 50%;\n",
              "      cursor: pointer;\n",
              "      display: none;\n",
              "      fill: #1967D2;\n",
              "      height: 32px;\n",
              "      padding: 0 0 0 0;\n",
              "      width: 32px;\n",
              "    }\n",
              "\n",
              "    .colab-df-convert:hover {\n",
              "      background-color: #E2EBFA;\n",
              "      box-shadow: 0px 1px 2px rgba(60, 64, 67, 0.3), 0px 1px 3px 1px rgba(60, 64, 67, 0.15);\n",
              "      fill: #174EA6;\n",
              "    }\n",
              "\n",
              "    [theme=dark] .colab-df-convert {\n",
              "      background-color: #3B4455;\n",
              "      fill: #D2E3FC;\n",
              "    }\n",
              "\n",
              "    [theme=dark] .colab-df-convert:hover {\n",
              "      background-color: #434B5C;\n",
              "      box-shadow: 0px 1px 3px 1px rgba(0, 0, 0, 0.15);\n",
              "      filter: drop-shadow(0px 1px 2px rgba(0, 0, 0, 0.3));\n",
              "      fill: #FFFFFF;\n",
              "    }\n",
              "  </style>\n",
              "\n",
              "      <script>\n",
              "        const buttonEl =\n",
              "          document.querySelector('#df-5c0966f4-83c0-43c2-bfdc-80985a5c6c1e button.colab-df-convert');\n",
              "        buttonEl.style.display =\n",
              "          google.colab.kernel.accessAllowed ? 'block' : 'none';\n",
              "\n",
              "        async function convertToInteractive(key) {\n",
              "          const element = document.querySelector('#df-5c0966f4-83c0-43c2-bfdc-80985a5c6c1e');\n",
              "          const dataTable =\n",
              "            await google.colab.kernel.invokeFunction('convertToInteractive',\n",
              "                                                     [key], {});\n",
              "          if (!dataTable) return;\n",
              "\n",
              "          const docLinkHtml = 'Like what you see? Visit the ' +\n",
              "            '<a target=\"_blank\" href=https://colab.research.google.com/notebooks/data_table.ipynb>data table notebook</a>'\n",
              "            + ' to learn more about interactive tables.';\n",
              "          element.innerHTML = '';\n",
              "          dataTable['output_type'] = 'display_data';\n",
              "          await google.colab.output.renderOutput(dataTable, element);\n",
              "          const docLink = document.createElement('div');\n",
              "          docLink.innerHTML = docLinkHtml;\n",
              "          element.appendChild(docLink);\n",
              "        }\n",
              "      </script>\n",
              "    </div>\n",
              "  </div>\n",
              "  "
            ]
          },
          "metadata": {},
          "execution_count": 4
        }
      ]
    },
    {
      "cell_type": "code",
      "source": [
        "df_select=df[['trans_date_trans_time','category','amt','city_pop']]"
      ],
      "metadata": {
        "id": "2_YuJa4IFKda"
      },
      "execution_count": 5,
      "outputs": []
    },
    {
      "cell_type": "markdown",
      "source": [
        "# 1.) Use scikit learn preprocessing to split the data into 70/30 in out of sample"
      ],
      "metadata": {
        "id": "8VsnpGe9-B3p"
      }
    },
    {
      "cell_type": "code",
      "source": [
        "from sklearn.model_selection import train_test_split\n",
        "from sklearn import preprocessing"
      ],
      "metadata": {
        "id": "1tpCDMW198ym"
      },
      "execution_count": 6,
      "outputs": []
    },
    {
      "cell_type": "code",
      "source": [
        "df_select['trans_date_trans_time']=pd.to_datetime(df_select['trans_date_trans_time'])"
      ],
      "metadata": {
        "colab": {
          "base_uri": "https://localhost:8080/"
        },
        "id": "aCesknBfTa1Z",
        "outputId": "8515c7b3-f4df-4ac0-b19a-835b36eb43e3"
      },
      "execution_count": 7,
      "outputs": [
        {
          "output_type": "stream",
          "name": "stderr",
          "text": [
            "<ipython-input-7-9ba00a5dfdf3>:1: SettingWithCopyWarning: \n",
            "A value is trying to be set on a copy of a slice from a DataFrame.\n",
            "Try using .loc[row_indexer,col_indexer] = value instead\n",
            "\n",
            "See the caveats in the documentation: https://pandas.pydata.org/pandas-docs/stable/user_guide/indexing.html#returning-a-view-versus-a-copy\n",
            "  df_select['trans_date_trans_time']=pd.to_datetime(df_select['trans_date_trans_time'])\n"
          ]
        }
      ]
    },
    {
      "cell_type": "code",
      "source": [
        "# Convert factor variable to n-1 dummies\n",
        "dummies=pd.get_dummies(df_select['category'], drop_first=True)\n",
        "mergedf=pd.concat([dummies,df_select],axis=1)"
      ],
      "metadata": {
        "id": "u0rdT4VvTa_B"
      },
      "execution_count": 8,
      "outputs": []
    },
    {
      "cell_type": "code",
      "source": [
        "df_select=mergedf.drop('category',axis=1)"
      ],
      "metadata": {
        "id": "GiR6a42RjdAl"
      },
      "execution_count": 9,
      "outputs": []
    },
    {
      "cell_type": "code",
      "source": [
        "# Convert trans_date_trans_time to dummies\n",
        "df_select['hour']=[i.hour for i in df_select['trans_date_trans_time']]\n",
        "df_select['morning']=np.where(df_select['hour']<=5,1,0)\n",
        "df_select['evening']=np.where(df_select['hour']>=18,1,0)\n",
        "df_select=df_select.drop('hour',axis=1)\n",
        "\n",
        "# Define predicted variable\n",
        "y=df['is_fraud']"
      ],
      "metadata": {
        "id": "r8qlnN_xYrAa"
      },
      "execution_count": 10,
      "outputs": []
    },
    {
      "cell_type": "code",
      "source": [
        "df_select=df_select.drop('trans_date_trans_time',axis=1)"
      ],
      "metadata": {
        "id": "6G3GfPmkkM_H"
      },
      "execution_count": 11,
      "outputs": []
    },
    {
      "cell_type": "code",
      "source": [
        "# Split data into training and testing data\n",
        "x_train, x_test, y_train, y_test=train_test_split(df_select,y,test_size=0.3,random_state=90)\n",
        "\n",
        "# Scale predictors based on training data\n",
        "scaler=preprocessing.StandardScaler().fit(x_train)\n",
        "x_train_scale=scaler.transform(x_train)\n",
        "x_test_scale=scaler.transform(x_test)"
      ],
      "metadata": {
        "id": "FZvnpERK981d"
      },
      "execution_count": 12,
      "outputs": []
    },
    {
      "cell_type": "code",
      "source": [
        "col=x_train.columns"
      ],
      "metadata": {
        "id": "51VT-EUErV65"
      },
      "execution_count": 13,
      "outputs": []
    },
    {
      "cell_type": "code",
      "source": [
        "df_x_train_scale=pd.DataFrame(x_train_scale,columns=col)\n",
        "df_x_train_scale"
      ],
      "metadata": {
        "colab": {
          "base_uri": "https://localhost:8080/",
          "height": 488
        },
        "id": "Aa-nGFxuqrf1",
        "outputId": "31cedd65-b6b3-4f9e-e2a0-4479b22d1892"
      },
      "execution_count": 14,
      "outputs": [
        {
          "output_type": "execute_result",
          "data": {
            "text/plain": [
              "        food_dining  gas_transport  grocery_net  grocery_pos  health_fitness  \\\n",
              "0         -0.275886       2.969946    -0.190321    -0.322718       -0.264888   \n",
              "1         -0.275886      -0.336706    -0.190321    -0.322718       -0.264888   \n",
              "2         -0.275886      -0.336706    -0.190321    -0.322718       -0.264888   \n",
              "3         -0.275886      -0.336706    -0.190321    -0.322718       -0.264888   \n",
              "4         -0.275886       2.969946    -0.190321    -0.322718       -0.264888   \n",
              "...             ...            ...          ...          ...             ...   \n",
              "388998    -0.275886      -0.336706    -0.190321    -0.322718       -0.264888   \n",
              "388999    -0.275886      -0.336706    -0.190321     3.098685       -0.264888   \n",
              "389000    -0.275886      -0.336706    -0.190321    -0.322718       -0.264888   \n",
              "389001    -0.275886      -0.336706    -0.190321    -0.322718       -0.264888   \n",
              "389002    -0.275886      -0.336706    -0.190321    -0.322718       -0.264888   \n",
              "\n",
              "            home  kids_pets  misc_net  misc_pos  personal_care  shopping_net  \\\n",
              "0      -0.322324  -0.309942 -0.228382 -0.257458       -0.27664     -0.285210   \n",
              "1      -0.322324   3.226410 -0.228382 -0.257458       -0.27664     -0.285210   \n",
              "2      -0.322324  -0.309942 -0.228382 -0.257458       -0.27664     -0.285210   \n",
              "3      -0.322324  -0.309942 -0.228382 -0.257458       -0.27664      3.506186   \n",
              "4      -0.322324  -0.309942 -0.228382 -0.257458       -0.27664     -0.285210   \n",
              "...          ...        ...       ...       ...            ...           ...   \n",
              "388998 -0.322324  -0.309942  4.378621 -0.257458       -0.27664     -0.285210   \n",
              "388999 -0.322324  -0.309942 -0.228382 -0.257458       -0.27664     -0.285210   \n",
              "389000 -0.322324  -0.309942 -0.228382 -0.257458       -0.27664     -0.285210   \n",
              "389001 -0.322324  -0.309942 -0.228382  3.884130       -0.27664     -0.285210   \n",
              "389002 -0.322324  -0.309942 -0.228382 -0.257458       -0.27664     -0.285210   \n",
              "\n",
              "        shopping_pos    travel       amt  city_pop   morning   evening  \n",
              "0          -0.313095 -0.179687  0.163902 -0.288142 -0.493377 -0.660714  \n",
              "1          -0.313095 -0.179687 -0.061082 -0.288142 -0.493377  1.513514  \n",
              "2           3.193916 -0.179687 -0.394254 -0.292863  2.026847 -0.660714  \n",
              "3          -0.313095 -0.179687 -0.421751 -0.233780 -0.493377  1.513514  \n",
              "4          -0.313095 -0.179687  0.067214 -0.285420 -0.493377 -0.660714  \n",
              "...              ...       ...       ...       ...       ...       ...  \n",
              "388998     -0.313095 -0.179687 -0.432287 -0.259971 -0.493377 -0.660714  \n",
              "388999     -0.313095 -0.179687  0.421715 -0.291958 -0.493377 -0.660714  \n",
              "389000     -0.313095 -0.179687 -0.134514 -0.293199 -0.493377  1.513514  \n",
              "389001     -0.313095 -0.179687 -0.372476 -0.274930  2.026847 -0.660714  \n",
              "389002      3.193916 -0.179687  0.342245 -0.290993  2.026847 -0.660714  \n",
              "\n",
              "[389003 rows x 17 columns]"
            ],
            "text/html": [
              "\n",
              "  <div id=\"df-7843ed1c-d578-4c60-8ce7-cd7d0d72a81b\">\n",
              "    <div class=\"colab-df-container\">\n",
              "      <div>\n",
              "<style scoped>\n",
              "    .dataframe tbody tr th:only-of-type {\n",
              "        vertical-align: middle;\n",
              "    }\n",
              "\n",
              "    .dataframe tbody tr th {\n",
              "        vertical-align: top;\n",
              "    }\n",
              "\n",
              "    .dataframe thead th {\n",
              "        text-align: right;\n",
              "    }\n",
              "</style>\n",
              "<table border=\"1\" class=\"dataframe\">\n",
              "  <thead>\n",
              "    <tr style=\"text-align: right;\">\n",
              "      <th></th>\n",
              "      <th>food_dining</th>\n",
              "      <th>gas_transport</th>\n",
              "      <th>grocery_net</th>\n",
              "      <th>grocery_pos</th>\n",
              "      <th>health_fitness</th>\n",
              "      <th>home</th>\n",
              "      <th>kids_pets</th>\n",
              "      <th>misc_net</th>\n",
              "      <th>misc_pos</th>\n",
              "      <th>personal_care</th>\n",
              "      <th>shopping_net</th>\n",
              "      <th>shopping_pos</th>\n",
              "      <th>travel</th>\n",
              "      <th>amt</th>\n",
              "      <th>city_pop</th>\n",
              "      <th>morning</th>\n",
              "      <th>evening</th>\n",
              "    </tr>\n",
              "  </thead>\n",
              "  <tbody>\n",
              "    <tr>\n",
              "      <th>0</th>\n",
              "      <td>-0.275886</td>\n",
              "      <td>2.969946</td>\n",
              "      <td>-0.190321</td>\n",
              "      <td>-0.322718</td>\n",
              "      <td>-0.264888</td>\n",
              "      <td>-0.322324</td>\n",
              "      <td>-0.309942</td>\n",
              "      <td>-0.228382</td>\n",
              "      <td>-0.257458</td>\n",
              "      <td>-0.27664</td>\n",
              "      <td>-0.285210</td>\n",
              "      <td>-0.313095</td>\n",
              "      <td>-0.179687</td>\n",
              "      <td>0.163902</td>\n",
              "      <td>-0.288142</td>\n",
              "      <td>-0.493377</td>\n",
              "      <td>-0.660714</td>\n",
              "    </tr>\n",
              "    <tr>\n",
              "      <th>1</th>\n",
              "      <td>-0.275886</td>\n",
              "      <td>-0.336706</td>\n",
              "      <td>-0.190321</td>\n",
              "      <td>-0.322718</td>\n",
              "      <td>-0.264888</td>\n",
              "      <td>-0.322324</td>\n",
              "      <td>3.226410</td>\n",
              "      <td>-0.228382</td>\n",
              "      <td>-0.257458</td>\n",
              "      <td>-0.27664</td>\n",
              "      <td>-0.285210</td>\n",
              "      <td>-0.313095</td>\n",
              "      <td>-0.179687</td>\n",
              "      <td>-0.061082</td>\n",
              "      <td>-0.288142</td>\n",
              "      <td>-0.493377</td>\n",
              "      <td>1.513514</td>\n",
              "    </tr>\n",
              "    <tr>\n",
              "      <th>2</th>\n",
              "      <td>-0.275886</td>\n",
              "      <td>-0.336706</td>\n",
              "      <td>-0.190321</td>\n",
              "      <td>-0.322718</td>\n",
              "      <td>-0.264888</td>\n",
              "      <td>-0.322324</td>\n",
              "      <td>-0.309942</td>\n",
              "      <td>-0.228382</td>\n",
              "      <td>-0.257458</td>\n",
              "      <td>-0.27664</td>\n",
              "      <td>-0.285210</td>\n",
              "      <td>3.193916</td>\n",
              "      <td>-0.179687</td>\n",
              "      <td>-0.394254</td>\n",
              "      <td>-0.292863</td>\n",
              "      <td>2.026847</td>\n",
              "      <td>-0.660714</td>\n",
              "    </tr>\n",
              "    <tr>\n",
              "      <th>3</th>\n",
              "      <td>-0.275886</td>\n",
              "      <td>-0.336706</td>\n",
              "      <td>-0.190321</td>\n",
              "      <td>-0.322718</td>\n",
              "      <td>-0.264888</td>\n",
              "      <td>-0.322324</td>\n",
              "      <td>-0.309942</td>\n",
              "      <td>-0.228382</td>\n",
              "      <td>-0.257458</td>\n",
              "      <td>-0.27664</td>\n",
              "      <td>3.506186</td>\n",
              "      <td>-0.313095</td>\n",
              "      <td>-0.179687</td>\n",
              "      <td>-0.421751</td>\n",
              "      <td>-0.233780</td>\n",
              "      <td>-0.493377</td>\n",
              "      <td>1.513514</td>\n",
              "    </tr>\n",
              "    <tr>\n",
              "      <th>4</th>\n",
              "      <td>-0.275886</td>\n",
              "      <td>2.969946</td>\n",
              "      <td>-0.190321</td>\n",
              "      <td>-0.322718</td>\n",
              "      <td>-0.264888</td>\n",
              "      <td>-0.322324</td>\n",
              "      <td>-0.309942</td>\n",
              "      <td>-0.228382</td>\n",
              "      <td>-0.257458</td>\n",
              "      <td>-0.27664</td>\n",
              "      <td>-0.285210</td>\n",
              "      <td>-0.313095</td>\n",
              "      <td>-0.179687</td>\n",
              "      <td>0.067214</td>\n",
              "      <td>-0.285420</td>\n",
              "      <td>-0.493377</td>\n",
              "      <td>-0.660714</td>\n",
              "    </tr>\n",
              "    <tr>\n",
              "      <th>...</th>\n",
              "      <td>...</td>\n",
              "      <td>...</td>\n",
              "      <td>...</td>\n",
              "      <td>...</td>\n",
              "      <td>...</td>\n",
              "      <td>...</td>\n",
              "      <td>...</td>\n",
              "      <td>...</td>\n",
              "      <td>...</td>\n",
              "      <td>...</td>\n",
              "      <td>...</td>\n",
              "      <td>...</td>\n",
              "      <td>...</td>\n",
              "      <td>...</td>\n",
              "      <td>...</td>\n",
              "      <td>...</td>\n",
              "      <td>...</td>\n",
              "    </tr>\n",
              "    <tr>\n",
              "      <th>388998</th>\n",
              "      <td>-0.275886</td>\n",
              "      <td>-0.336706</td>\n",
              "      <td>-0.190321</td>\n",
              "      <td>-0.322718</td>\n",
              "      <td>-0.264888</td>\n",
              "      <td>-0.322324</td>\n",
              "      <td>-0.309942</td>\n",
              "      <td>4.378621</td>\n",
              "      <td>-0.257458</td>\n",
              "      <td>-0.27664</td>\n",
              "      <td>-0.285210</td>\n",
              "      <td>-0.313095</td>\n",
              "      <td>-0.179687</td>\n",
              "      <td>-0.432287</td>\n",
              "      <td>-0.259971</td>\n",
              "      <td>-0.493377</td>\n",
              "      <td>-0.660714</td>\n",
              "    </tr>\n",
              "    <tr>\n",
              "      <th>388999</th>\n",
              "      <td>-0.275886</td>\n",
              "      <td>-0.336706</td>\n",
              "      <td>-0.190321</td>\n",
              "      <td>3.098685</td>\n",
              "      <td>-0.264888</td>\n",
              "      <td>-0.322324</td>\n",
              "      <td>-0.309942</td>\n",
              "      <td>-0.228382</td>\n",
              "      <td>-0.257458</td>\n",
              "      <td>-0.27664</td>\n",
              "      <td>-0.285210</td>\n",
              "      <td>-0.313095</td>\n",
              "      <td>-0.179687</td>\n",
              "      <td>0.421715</td>\n",
              "      <td>-0.291958</td>\n",
              "      <td>-0.493377</td>\n",
              "      <td>-0.660714</td>\n",
              "    </tr>\n",
              "    <tr>\n",
              "      <th>389000</th>\n",
              "      <td>-0.275886</td>\n",
              "      <td>-0.336706</td>\n",
              "      <td>-0.190321</td>\n",
              "      <td>-0.322718</td>\n",
              "      <td>-0.264888</td>\n",
              "      <td>-0.322324</td>\n",
              "      <td>-0.309942</td>\n",
              "      <td>-0.228382</td>\n",
              "      <td>-0.257458</td>\n",
              "      <td>-0.27664</td>\n",
              "      <td>-0.285210</td>\n",
              "      <td>-0.313095</td>\n",
              "      <td>-0.179687</td>\n",
              "      <td>-0.134514</td>\n",
              "      <td>-0.293199</td>\n",
              "      <td>-0.493377</td>\n",
              "      <td>1.513514</td>\n",
              "    </tr>\n",
              "    <tr>\n",
              "      <th>389001</th>\n",
              "      <td>-0.275886</td>\n",
              "      <td>-0.336706</td>\n",
              "      <td>-0.190321</td>\n",
              "      <td>-0.322718</td>\n",
              "      <td>-0.264888</td>\n",
              "      <td>-0.322324</td>\n",
              "      <td>-0.309942</td>\n",
              "      <td>-0.228382</td>\n",
              "      <td>3.884130</td>\n",
              "      <td>-0.27664</td>\n",
              "      <td>-0.285210</td>\n",
              "      <td>-0.313095</td>\n",
              "      <td>-0.179687</td>\n",
              "      <td>-0.372476</td>\n",
              "      <td>-0.274930</td>\n",
              "      <td>2.026847</td>\n",
              "      <td>-0.660714</td>\n",
              "    </tr>\n",
              "    <tr>\n",
              "      <th>389002</th>\n",
              "      <td>-0.275886</td>\n",
              "      <td>-0.336706</td>\n",
              "      <td>-0.190321</td>\n",
              "      <td>-0.322718</td>\n",
              "      <td>-0.264888</td>\n",
              "      <td>-0.322324</td>\n",
              "      <td>-0.309942</td>\n",
              "      <td>-0.228382</td>\n",
              "      <td>-0.257458</td>\n",
              "      <td>-0.27664</td>\n",
              "      <td>-0.285210</td>\n",
              "      <td>3.193916</td>\n",
              "      <td>-0.179687</td>\n",
              "      <td>0.342245</td>\n",
              "      <td>-0.290993</td>\n",
              "      <td>2.026847</td>\n",
              "      <td>-0.660714</td>\n",
              "    </tr>\n",
              "  </tbody>\n",
              "</table>\n",
              "<p>389003 rows × 17 columns</p>\n",
              "</div>\n",
              "      <button class=\"colab-df-convert\" onclick=\"convertToInteractive('df-7843ed1c-d578-4c60-8ce7-cd7d0d72a81b')\"\n",
              "              title=\"Convert this dataframe to an interactive table.\"\n",
              "              style=\"display:none;\">\n",
              "        \n",
              "  <svg xmlns=\"http://www.w3.org/2000/svg\" height=\"24px\"viewBox=\"0 0 24 24\"\n",
              "       width=\"24px\">\n",
              "    <path d=\"M0 0h24v24H0V0z\" fill=\"none\"/>\n",
              "    <path d=\"M18.56 5.44l.94 2.06.94-2.06 2.06-.94-2.06-.94-.94-2.06-.94 2.06-2.06.94zm-11 1L8.5 8.5l.94-2.06 2.06-.94-2.06-.94L8.5 2.5l-.94 2.06-2.06.94zm10 10l.94 2.06.94-2.06 2.06-.94-2.06-.94-.94-2.06-.94 2.06-2.06.94z\"/><path d=\"M17.41 7.96l-1.37-1.37c-.4-.4-.92-.59-1.43-.59-.52 0-1.04.2-1.43.59L10.3 9.45l-7.72 7.72c-.78.78-.78 2.05 0 2.83L4 21.41c.39.39.9.59 1.41.59.51 0 1.02-.2 1.41-.59l7.78-7.78 2.81-2.81c.8-.78.8-2.07 0-2.86zM5.41 20L4 18.59l7.72-7.72 1.47 1.35L5.41 20z\"/>\n",
              "  </svg>\n",
              "      </button>\n",
              "      \n",
              "  <style>\n",
              "    .colab-df-container {\n",
              "      display:flex;\n",
              "      flex-wrap:wrap;\n",
              "      gap: 12px;\n",
              "    }\n",
              "\n",
              "    .colab-df-convert {\n",
              "      background-color: #E8F0FE;\n",
              "      border: none;\n",
              "      border-radius: 50%;\n",
              "      cursor: pointer;\n",
              "      display: none;\n",
              "      fill: #1967D2;\n",
              "      height: 32px;\n",
              "      padding: 0 0 0 0;\n",
              "      width: 32px;\n",
              "    }\n",
              "\n",
              "    .colab-df-convert:hover {\n",
              "      background-color: #E2EBFA;\n",
              "      box-shadow: 0px 1px 2px rgba(60, 64, 67, 0.3), 0px 1px 3px 1px rgba(60, 64, 67, 0.15);\n",
              "      fill: #174EA6;\n",
              "    }\n",
              "\n",
              "    [theme=dark] .colab-df-convert {\n",
              "      background-color: #3B4455;\n",
              "      fill: #D2E3FC;\n",
              "    }\n",
              "\n",
              "    [theme=dark] .colab-df-convert:hover {\n",
              "      background-color: #434B5C;\n",
              "      box-shadow: 0px 1px 3px 1px rgba(0, 0, 0, 0.15);\n",
              "      filter: drop-shadow(0px 1px 2px rgba(0, 0, 0, 0.3));\n",
              "      fill: #FFFFFF;\n",
              "    }\n",
              "  </style>\n",
              "\n",
              "      <script>\n",
              "        const buttonEl =\n",
              "          document.querySelector('#df-7843ed1c-d578-4c60-8ce7-cd7d0d72a81b button.colab-df-convert');\n",
              "        buttonEl.style.display =\n",
              "          google.colab.kernel.accessAllowed ? 'block' : 'none';\n",
              "\n",
              "        async function convertToInteractive(key) {\n",
              "          const element = document.querySelector('#df-7843ed1c-d578-4c60-8ce7-cd7d0d72a81b');\n",
              "          const dataTable =\n",
              "            await google.colab.kernel.invokeFunction('convertToInteractive',\n",
              "                                                     [key], {});\n",
              "          if (!dataTable) return;\n",
              "\n",
              "          const docLinkHtml = 'Like what you see? Visit the ' +\n",
              "            '<a target=\"_blank\" href=https://colab.research.google.com/notebooks/data_table.ipynb>data table notebook</a>'\n",
              "            + ' to learn more about interactive tables.';\n",
              "          element.innerHTML = '';\n",
              "          dataTable['output_type'] = 'display_data';\n",
              "          await google.colab.output.renderOutput(dataTable, element);\n",
              "          const docLink = document.createElement('div');\n",
              "          docLink.innerHTML = docLinkHtml;\n",
              "          element.appendChild(docLink);\n",
              "        }\n",
              "      </script>\n",
              "    </div>\n",
              "  </div>\n",
              "  "
            ]
          },
          "metadata": {},
          "execution_count": 14
        }
      ]
    },
    {
      "cell_type": "markdown",
      "source": [
        "# 2.) Make three sets of training data (Oversample, Undersample and SMOTE)"
      ],
      "metadata": {
        "id": "lbkpNPyN-Gnk"
      }
    },
    {
      "cell_type": "code",
      "source": [
        "from imblearn.over_sampling import RandomOverSampler\n",
        "from imblearn.under_sampling import RandomUnderSampler\n",
        "from imblearn.over_sampling import SMOTE"
      ],
      "metadata": {
        "id": "cNu6ysyV988v"
      },
      "execution_count": 15,
      "outputs": []
    },
    {
      "cell_type": "code",
      "source": [
        "from pandas.core.common import random_state\n",
        "ros=RandomOverSampler(random_state=100)\n",
        "over_x,over_y=ros.fit_resample(df_x_train_scale,y_train)\n",
        "\n",
        "rus=RandomUnderSampler(random_state=100)\n",
        "under_x,under_y=rus.fit_resample(df_x_train_scale,y_train)\n",
        "\n",
        "smote=SMOTE()\n",
        "smote_x,smote_y=smote.fit_resample(df_x_train_scale,y_train)"
      ],
      "metadata": {
        "id": "ifsNzHvOlpdf"
      },
      "execution_count": 16,
      "outputs": []
    },
    {
      "cell_type": "markdown",
      "source": [
        "# 3.) Train three logistic regression models "
      ],
      "metadata": {
        "id": "bIJx2jvD-KEI"
      }
    },
    {
      "cell_type": "code",
      "source": [
        "from sklearn.linear_model import LogisticRegression"
      ],
      "metadata": {
        "id": "QhVMq92zvz4s"
      },
      "execution_count": 17,
      "outputs": []
    },
    {
      "cell_type": "code",
      "source": [
        "rosmodel=LogisticRegression().fit(over_x,over_y)"
      ],
      "metadata": {
        "id": "NvwomEoaGAgN"
      },
      "execution_count": 18,
      "outputs": []
    },
    {
      "cell_type": "code",
      "source": [
        "rusmodel=LogisticRegression().fit(under_x,under_y)"
      ],
      "metadata": {
        "id": "AwXa-bvX99Id"
      },
      "execution_count": 19,
      "outputs": []
    },
    {
      "cell_type": "code",
      "source": [
        "smotemodel=LogisticRegression().fit(smote_x,smote_y)"
      ],
      "metadata": {
        "id": "VG0_5eniGH9P"
      },
      "execution_count": 20,
      "outputs": []
    },
    {
      "cell_type": "markdown",
      "source": [],
      "metadata": {
        "id": "pLIndmpE99Tq"
      }
    },
    {
      "cell_type": "markdown",
      "source": [
        "# 4.) Test the three models"
      ],
      "metadata": {
        "id": "PeurmqI4-OoC"
      }
    },
    {
      "cell_type": "code",
      "source": [
        "# Define threshold\n",
        "t=0.1"
      ],
      "metadata": {
        "id": "BQdThEheoDvj"
      },
      "execution_count": 21,
      "outputs": []
    },
    {
      "cell_type": "code",
      "source": [
        "# Use Sensitivity and specificity to evaluate 3 models\n",
        "rospred=rosmodel.predict_proba(x_test)[:,1]>t\n",
        "df_select['rosTP']=(rospred==1)&(y_test==1)\n",
        "print('Sensitivity is '+str(df_select['rosTP'].sum()/(y_test==1).sum()))\n",
        "\n",
        "df_select['rosTN']=(rospred==0)&((y_test==0))\n",
        "print('Specificity is '+str(df_select['rosTN'].sum()/(y_test==0).sum()))"
      ],
      "metadata": {
        "id": "8tpSsOC0xsKs",
        "colab": {
          "base_uri": "https://localhost:8080/"
        },
        "outputId": "e1351baa-02b7-4f64-c4b8-87eb8352b53c"
      },
      "execution_count": 22,
      "outputs": [
        {
          "output_type": "stream",
          "name": "stdout",
          "text": [
            "Sensitivity is 0.44716692189892804\n",
            "Specificity is 0.8381818948230491\n"
          ]
        }
      ]
    },
    {
      "cell_type": "code",
      "source": [
        "ruspred=rusmodel.predict_proba(x_test)[:,1]>t\n",
        "df_select['rusTP']=(ruspred==1)&(y_test==1)\n",
        "print('Sensitivity is '+str(df_select['rusTP'].sum()/(y_test==1).sum()))\n",
        "\n",
        "df_select['rusTN']=(ruspred==0)&(y_test==0)\n",
        "print('Specificity is '+str(df_select['rusTN'].sum()/(y_test==0).sum()))"
      ],
      "metadata": {
        "id": "zwq8KTmsXhFY",
        "colab": {
          "base_uri": "https://localhost:8080/"
        },
        "outputId": "8f5b9ca9-5feb-4b3a-c843-6646c589b160"
      },
      "execution_count": 23,
      "outputs": [
        {
          "output_type": "stream",
          "name": "stdout",
          "text": [
            "Sensitivity is 0.445635528330781\n",
            "Specificity is 0.8396391730849135\n"
          ]
        }
      ]
    },
    {
      "cell_type": "code",
      "source": [
        "smotepred=smotemodel.predict_proba(x_test)[:,1]>t\n",
        "df_select['smoteTP']=(smotepred==1)&(y_test==1)\n",
        "print('Sensitivity is '+str(df_select['smoteTP'].sum()/(y_test==1).sum()))\n",
        "\n",
        "df_select['smoteTN']=(smotepred==0)&(y_test==1)\n",
        "print('Specificity is '+str(df_select['smoteTN'].sum()/(y_test==1).sum()))"
      ],
      "metadata": {
        "id": "DjgQ8BQM99WR",
        "colab": {
          "base_uri": "https://localhost:8080/"
        },
        "outputId": "f819c5c3-6540-482f-81d9-82a26b757240"
      },
      "execution_count": 24,
      "outputs": [
        {
          "output_type": "stream",
          "name": "stdout",
          "text": [
            "Sensitivity is 0.3981623277182236\n",
            "Specificity is 0.6018376722817764\n"
          ]
        }
      ]
    },
    {
      "cell_type": "markdown",
      "source": [
        "# 5.) Which performed best in Out of Sample metrics?"
      ],
      "metadata": {
        "id": "6isBwtmL-R4p"
      }
    },
    {
      "cell_type": "markdown",
      "source": [
        "It is more important to have a higher sensitivity for credit company because it wants to avoid false negatives as many as possible. Using sensitivity as the primary evaluting metric, random over sampling model outperforms random under sampling and smote model."
      ],
      "metadata": {
        "id": "EhEh44e3gIgV"
      }
    },
    {
      "cell_type": "markdown",
      "source": [
        "# 6.) Pick two features and plot the two classes before and after SMOTE."
      ],
      "metadata": {
        "id": "aQa3sanl-XUk"
      }
    },
    {
      "cell_type": "code",
      "source": [
        "import matplotlib.pyplot as plt"
      ],
      "metadata": {
        "id": "vVaHpqf9wHj7"
      },
      "execution_count": 25,
      "outputs": []
    },
    {
      "cell_type": "code",
      "source": [
        "df_train_scale=pd.concat([df_x_train_scale,y_train],axis=1)\n",
        "\n",
        "df_smote=pd.concat([smote_x,smote_y],axis=1)"
      ],
      "metadata": {
        "colab": {
          "base_uri": "https://localhost:8080/"
        },
        "id": "LtSYPp8PmdLi",
        "outputId": "3f44b939-0694-428d-86b0-bdae44ad8486"
      },
      "execution_count": 26,
      "outputs": [
        {
          "output_type": "stream",
          "name": "stdout",
          "text": [
            "   food_dining  gas_transport  grocery_net  grocery_pos  health_fitness  \\\n",
            "0    -0.275886       2.969946    -0.190321    -0.322718       -0.264888   \n",
            "1    -0.275886      -0.336706    -0.190321    -0.322718       -0.264888   \n",
            "2    -0.275886      -0.336706    -0.190321    -0.322718       -0.264888   \n",
            "3    -0.275886      -0.336706    -0.190321    -0.322718       -0.264888   \n",
            "4    -0.275886       2.969946    -0.190321    -0.322718       -0.264888   \n",
            "\n",
            "       home  kids_pets  misc_net  misc_pos  personal_care  shopping_net  \\\n",
            "0 -0.322324  -0.309942 -0.228382 -0.257458       -0.27664     -0.285210   \n",
            "1 -0.322324   3.226410 -0.228382 -0.257458       -0.27664     -0.285210   \n",
            "2 -0.322324  -0.309942 -0.228382 -0.257458       -0.27664     -0.285210   \n",
            "3 -0.322324  -0.309942 -0.228382 -0.257458       -0.27664      3.506186   \n",
            "4 -0.322324  -0.309942 -0.228382 -0.257458       -0.27664     -0.285210   \n",
            "\n",
            "   shopping_pos    travel       amt  city_pop   morning   evening  is_fraud  \n",
            "0     -0.313095 -0.179687  0.163902 -0.288142 -0.493377 -0.660714       NaN  \n",
            "1     -0.313095 -0.179687 -0.061082 -0.288142 -0.493377  1.513514       0.0  \n",
            "2      3.193916 -0.179687 -0.394254 -0.292863  2.026847 -0.660714       NaN  \n",
            "3     -0.313095 -0.179687 -0.421751 -0.233780 -0.493377  1.513514       NaN  \n",
            "4     -0.313095 -0.179687  0.067214 -0.285420 -0.493377 -0.660714       0.0  \n",
            "   food_dining  gas_transport  grocery_net  grocery_pos  health_fitness  \\\n",
            "0    -0.275886       2.969946    -0.190321    -0.322718       -0.264888   \n",
            "1    -0.275886      -0.336706    -0.190321    -0.322718       -0.264888   \n",
            "2    -0.275886      -0.336706    -0.190321    -0.322718       -0.264888   \n",
            "3    -0.275886      -0.336706    -0.190321    -0.322718       -0.264888   \n",
            "4    -0.275886       2.969946    -0.190321    -0.322718       -0.264888   \n",
            "\n",
            "       home  kids_pets  misc_net  misc_pos  personal_care  shopping_net  \\\n",
            "0 -0.322324  -0.309942 -0.228382 -0.257458       -0.27664     -0.285210   \n",
            "1 -0.322324   3.226410 -0.228382 -0.257458       -0.27664     -0.285210   \n",
            "2 -0.322324  -0.309942 -0.228382 -0.257458       -0.27664     -0.285210   \n",
            "3 -0.322324  -0.309942 -0.228382 -0.257458       -0.27664      3.506186   \n",
            "4 -0.322324  -0.309942 -0.228382 -0.257458       -0.27664     -0.285210   \n",
            "\n",
            "   shopping_pos    travel       amt  city_pop   morning   evening  is_fraud  \n",
            "0     -0.313095 -0.179687  0.163902 -0.288142 -0.493377 -0.660714         0  \n",
            "1     -0.313095 -0.179687 -0.061082 -0.288142 -0.493377  1.513514         0  \n",
            "2      3.193916 -0.179687 -0.394254 -0.292863  2.026847 -0.660714         0  \n",
            "3     -0.313095 -0.179687 -0.421751 -0.233780 -0.493377  1.513514         0  \n",
            "4     -0.313095 -0.179687  0.067214 -0.285420 -0.493377 -0.660714         0  \n"
          ]
        }
      ]
    },
    {
      "cell_type": "code",
      "source": [
        "plt.scatter(df_train_scale[df_train_scale['is_fraud']==1]['amt'], df_train_scale[df_train_scale['is_fraud']==1]['city_pop'],color='green',alpha=0.5)\n",
        "plt.scatter(df_train_scale[df_train_scale['is_fraud']==0]['amt'],df_train_scale[df_train_scale['is_fraud']==0]['city_pop'],color='yellow',alpha=0.5)\n",
        "plt.legend(['Fraudulent','Non-Fraudulent'])\n",
        "plt.title('Amount vs City Population Before SMOTE Sampling')\n",
        "plt.xlabel('Amount')\n",
        "plt.ylabel('City Population')\n",
        "plt.show()"
      ],
      "metadata": {
        "id": "YphNDj12aFhP",
        "colab": {
          "base_uri": "https://localhost:8080/",
          "height": 313
        },
        "outputId": "58569dda-07d4-4b0d-af88-ba572f6a198c"
      },
      "execution_count": 27,
      "outputs": [
        {
          "output_type": "execute_result",
          "data": {
            "text/plain": [
              "Text(0, 0.5, 'City Population')"
            ]
          },
          "metadata": {},
          "execution_count": 27
        },
        {
          "output_type": "display_data",
          "data": {
            "text/plain": [
              "<Figure size 432x288 with 1 Axes>"
            ],
            "image/png": "[encoded data removed]"
          },
          "metadata": {
            "needs_background": "light"
          }
        }
      ]
    },
    {
      "cell_type": "code",
      "source": [
        "plt.scatter(df_smote[df_smote['is_fraud']==1]['amt'],df_smote[df_smote['is_fraud']==1]['city_pop'],color='green',alpha=.5)\n",
        "plt.scatter(df_smote[df_smote['is_fraud']==0]['amt'],df_smote[df_smote['is_fraud']==0]['city_pop'],color='yellow',alpha=.5)\n",
        "plt.legend(['Fraudulent','Non-Fraudulent'])\n",
        "plt.title('Amount vs City Population After SMOTE Sampling')\n",
        "plt.xlabel('Amount')\n",
        "plt.ylabel('City Population')\n",
        "plt.show()"
      ],
      "metadata": {
        "colab": {
          "base_uri": "https://localhost:8080/",
          "height": 295
        },
        "id": "Kw8ku7OtxF4V",
        "outputId": "39a17206-6002-4710-e70d-35938e3136c3"
      },
      "execution_count": 29,
      "outputs": [
        {
          "output_type": "display_data",
          "data": {
            "text/plain": [
              "<Figure size 432x288 with 1 Axes>"
            ],
            "image/png": "[encoded data removed]"
          },
          "metadata": {
            "needs_background": "light"
          }
        }
      ]
    }
  ]
}